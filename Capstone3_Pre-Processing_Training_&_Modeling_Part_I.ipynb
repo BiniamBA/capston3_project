{
 "cells": [
  {
   "cell_type": "markdown",
   "metadata": {},
   "source": [
    "## Identification and classification of damaged/flooded buildings from post-hurricane satellite images"
   ]
  },
  {
   "cell_type": "markdown",
   "metadata": {},
   "source": [
    "## 3.1 Pre-Processing, Training and Modeling (Part I)  : Introduction\n",
    "\n",
    "In this notebook, we prepare the training and test data set. Next we build the first simple base line model to be used as a bench mark.\n"
   ]
  },
  {
   "cell_type": "markdown",
   "metadata": {},
   "source": [
    "## 3.2 Import relevant libraries"
   ]
  },
  {
   "cell_type": "code",
   "execution_count": 7,
   "metadata": {},
   "outputs": [],
   "source": [
    "import os\n",
    "import pandas as pd\n",
    "import numpy as np\n",
    "import matplotlib.pyplot as plt\n",
    "from matplotlib.offsetbox import OffsetImage, AnnotationBbox\n",
    "import seaborn as sns\n",
    "import plotly.express as px\n",
    "import plotly.graph_objects as go\n",
    "\n",
    "from pathlib import Path\n",
    "from PIL import Image\n",
    "from skimage.io import imread\n",
    "from skimage.color import rgb2gray\n",
    "from skimage.util import montage\n",
    "from tqdm import tqdm, tqdm_notebook # for progress bar\n",
    "tqdm.pandas() # instantiate\n",
    "\n",
    "import cv2\n",
    "\n",
    "from sklearn.model_selection import train_test_split"
   ]
  },
  {
   "cell_type": "markdown",
   "metadata": {},
   "source": [
    "## 3.3 Read saved data"
   ]
  },
  {
   "cell_type": "code",
   "execution_count": 4,
   "metadata": {},
   "outputs": [],
   "source": [
    "image_df_all = (pd.read_csv('./data/All_images_with_features.csv')).drop('Unnamed: 0', axis=1)"
   ]
  },
  {
   "cell_type": "code",
   "execution_count": 5,
   "metadata": {},
   "outputs": [
    {
     "data": {
      "text/html": [
       "<div>\n",
       "<style scoped>\n",
       "    .dataframe tbody tr th:only-of-type {\n",
       "        vertical-align: middle;\n",
       "    }\n",
       "\n",
       "    .dataframe tbody tr th {\n",
       "        vertical-align: top;\n",
       "    }\n",
       "\n",
       "    .dataframe thead th {\n",
       "        text-align: right;\n",
       "    }\n",
       "</style>\n",
       "<table border=\"1\" class=\"dataframe\">\n",
       "  <thead>\n",
       "    <tr style=\"text-align: right;\">\n",
       "      <th></th>\n",
       "      <th>index</th>\n",
       "      <th>path</th>\n",
       "      <th>damage</th>\n",
       "      <th>data_split</th>\n",
       "      <th>location</th>\n",
       "      <th>lon</th>\n",
       "      <th>lat</th>\n",
       "      <th>color_features</th>\n",
       "      <th>x</th>\n",
       "      <th>y</th>\n",
       "      <th>resnet_features</th>\n",
       "      <th>x1</th>\n",
       "      <th>y1</th>\n",
       "      <th>z1</th>\n",
       "    </tr>\n",
       "  </thead>\n",
       "  <tbody>\n",
       "    <tr>\n",
       "      <th>0</th>\n",
       "      <td>0</td>\n",
       "      <td>raw_data/test_another/damage/-96.86103_28.3637...</td>\n",
       "      <td>damage</td>\n",
       "      <td>test_another</td>\n",
       "      <td>-96.86103_28.363781</td>\n",
       "      <td>-96.861030</td>\n",
       "      <td>28.363781</td>\n",
       "      <td>[4.88281250e-04 0.00000000e+00 0.00000000e+00 ...</td>\n",
       "      <td>13.491997</td>\n",
       "      <td>8.466843</td>\n",
       "      <td>[1.1303113 0.9624331 5.366783  ... 1.2222589 0...</td>\n",
       "      <td>13.492067</td>\n",
       "      <td>8.467100</td>\n",
       "      <td>10.482869</td>\n",
       "    </tr>\n",
       "    <tr>\n",
       "      <th>1</th>\n",
       "      <td>1</td>\n",
       "      <td>raw_data/test_another/damage/-96.891574_28.364...</td>\n",
       "      <td>damage</td>\n",
       "      <td>test_another</td>\n",
       "      <td>-96.891574_28.364215</td>\n",
       "      <td>-96.891574</td>\n",
       "      <td>28.364215</td>\n",
       "      <td>[0.00000000e+00 0.00000000e+00 0.00000000e+00 ...</td>\n",
       "      <td>2.628940</td>\n",
       "      <td>8.487952</td>\n",
       "      <td>[0.33010513 3.6861324  0.05639834 ... 0.      ...</td>\n",
       "      <td>2.628948</td>\n",
       "      <td>8.488042</td>\n",
       "      <td>8.832417</td>\n",
       "    </tr>\n",
       "    <tr>\n",
       "      <th>2</th>\n",
       "      <td>2</td>\n",
       "      <td>raw_data/test_another/damage/-96.861869_28.364...</td>\n",
       "      <td>damage</td>\n",
       "      <td>test_another</td>\n",
       "      <td>-96.861869_28.364221</td>\n",
       "      <td>-96.861869</td>\n",
       "      <td>28.364221</td>\n",
       "      <td>[0.00000000e+00 0.00000000e+00 0.00000000e+00 ...</td>\n",
       "      <td>11.246094</td>\n",
       "      <td>5.521062</td>\n",
       "      <td>[2.6203313  0.47271124 1.1984255  ... 0.176002...</td>\n",
       "      <td>11.246102</td>\n",
       "      <td>5.520958</td>\n",
       "      <td>10.913705</td>\n",
       "    </tr>\n",
       "    <tr>\n",
       "      <th>3</th>\n",
       "      <td>3</td>\n",
       "      <td>raw_data/test_another/damage/-96.8745319999999...</td>\n",
       "      <td>damage</td>\n",
       "      <td>test_another</td>\n",
       "      <td>-96.87453199999999_28.371883</td>\n",
       "      <td>-96.874532</td>\n",
       "      <td>28.371883</td>\n",
       "      <td>[5.49316406e-04 0.00000000e+00 0.00000000e+00 ...</td>\n",
       "      <td>9.405262</td>\n",
       "      <td>8.846469</td>\n",
       "      <td>[2.0739737  1.4798961  2.299284   ... 0.112682...</td>\n",
       "      <td>9.405270</td>\n",
       "      <td>8.846631</td>\n",
       "      <td>2.472754</td>\n",
       "    </tr>\n",
       "    <tr>\n",
       "      <th>4</th>\n",
       "      <td>4</td>\n",
       "      <td>raw_data/test_another/damage/-96.874309_28.372...</td>\n",
       "      <td>damage</td>\n",
       "      <td>test_another</td>\n",
       "      <td>-96.874309_28.372196000000002</td>\n",
       "      <td>-96.874309</td>\n",
       "      <td>28.372196</td>\n",
       "      <td>[6.71386719e-04 0.00000000e+00 0.00000000e+00 ...</td>\n",
       "      <td>16.837591</td>\n",
       "      <td>0.416875</td>\n",
       "      <td>[1.6763107  5.627882   2.5987031  ... 0.029406...</td>\n",
       "      <td>16.837591</td>\n",
       "      <td>0.417198</td>\n",
       "      <td>4.835451</td>\n",
       "    </tr>\n",
       "  </tbody>\n",
       "</table>\n",
       "</div>"
      ],
      "text/plain": [
       "   index                                               path  damage  \\\n",
       "0      0  raw_data/test_another/damage/-96.86103_28.3637...  damage   \n",
       "1      1  raw_data/test_another/damage/-96.891574_28.364...  damage   \n",
       "2      2  raw_data/test_another/damage/-96.861869_28.364...  damage   \n",
       "3      3  raw_data/test_another/damage/-96.8745319999999...  damage   \n",
       "4      4  raw_data/test_another/damage/-96.874309_28.372...  damage   \n",
       "\n",
       "     data_split                       location        lon        lat  \\\n",
       "0  test_another            -96.86103_28.363781 -96.861030  28.363781   \n",
       "1  test_another           -96.891574_28.364215 -96.891574  28.364215   \n",
       "2  test_another           -96.861869_28.364221 -96.861869  28.364221   \n",
       "3  test_another   -96.87453199999999_28.371883 -96.874532  28.371883   \n",
       "4  test_another  -96.874309_28.372196000000002 -96.874309  28.372196   \n",
       "\n",
       "                                      color_features          x         y  \\\n",
       "0  [4.88281250e-04 0.00000000e+00 0.00000000e+00 ...  13.491997  8.466843   \n",
       "1  [0.00000000e+00 0.00000000e+00 0.00000000e+00 ...   2.628940  8.487952   \n",
       "2  [0.00000000e+00 0.00000000e+00 0.00000000e+00 ...  11.246094  5.521062   \n",
       "3  [5.49316406e-04 0.00000000e+00 0.00000000e+00 ...   9.405262  8.846469   \n",
       "4  [6.71386719e-04 0.00000000e+00 0.00000000e+00 ...  16.837591  0.416875   \n",
       "\n",
       "                                     resnet_features         x1        y1  \\\n",
       "0  [1.1303113 0.9624331 5.366783  ... 1.2222589 0...  13.492067  8.467100   \n",
       "1  [0.33010513 3.6861324  0.05639834 ... 0.      ...   2.628948  8.488042   \n",
       "2  [2.6203313  0.47271124 1.1984255  ... 0.176002...  11.246102  5.520958   \n",
       "3  [2.0739737  1.4798961  2.299284   ... 0.112682...   9.405270  8.846631   \n",
       "4  [1.6763107  5.627882   2.5987031  ... 0.029406...  16.837591  0.417198   \n",
       "\n",
       "          z1  \n",
       "0  10.482869  \n",
       "1   8.832417  \n",
       "2  10.913705  \n",
       "3   2.472754  \n",
       "4   4.835451  "
      ]
     },
     "execution_count": 5,
     "metadata": {},
     "output_type": "execute_result"
    }
   ],
   "source": [
    "image_df_all.head()"
   ]
  },
  {
   "cell_type": "code",
   "execution_count": 6,
   "metadata": {},
   "outputs": [
    {
     "data": {
      "text/plain": [
       "train_another         10000\n",
       "test_another           9000\n",
       "test                   2000\n",
       "validation_another     2000\n",
       "Name: data_split, dtype: int64"
      ]
     },
     "execution_count": 6,
     "metadata": {},
     "output_type": "execute_result"
    }
   ],
   "source": [
    "image_df_all['data_split'].value_counts()"
   ]
  },
  {
   "cell_type": "markdown",
   "metadata": {},
   "source": [
    "## 3.3 Base Line Model\n",
    "\n",
    "We will start preparing the vector for training and testing. Two sets of features that were generated in the previous notebook will be used. The two sets of feature are:\n",
    "- Color features extracted from the images\n",
    "- Features generated using the resnet50 \n",
    "\n",
    "We will train a simple baseline model using KNN using these two sets of feature and compare the results"
   ]
  },
  {
   "cell_type": "markdown",
   "metadata": {},
   "source": [
    "### 3.3.1 Model training using color features"
   ]
  },
  {
   "cell_type": "code",
   "execution_count": 258,
   "metadata": {},
   "outputs": [],
   "source": [
    "# # train_df = image_df_all[image_df_all['data_split']=='train_another']\n",
    "# train_df = image_df_all.query('data_split==\"train_another\"')\n",
    "# train_df.reset_index(inplace=True)\n",
    "# train_df.head()"
   ]
  },
  {
   "cell_type": "code",
   "execution_count": 259,
   "metadata": {},
   "outputs": [],
   "source": [
    "# X_train = np.stack(train_df['color_features'].values, 0)\n",
    "# y_train = np.stack(train_df['damage'], 0)\n",
    "# print(X_train.shape, y_train.shape)"
   ]
  },
  {
   "cell_type": "code",
   "execution_count": null,
   "metadata": {},
   "outputs": [],
   "source": []
  },
  {
   "cell_type": "code",
   "execution_count": 250,
   "metadata": {},
   "outputs": [
    {
     "data": {
      "text/html": [
       "<div>\n",
       "<style scoped>\n",
       "    .dataframe tbody tr th:only-of-type {\n",
       "        vertical-align: middle;\n",
       "    }\n",
       "\n",
       "    .dataframe tbody tr th {\n",
       "        vertical-align: top;\n",
       "    }\n",
       "\n",
       "    .dataframe thead th {\n",
       "        text-align: right;\n",
       "    }\n",
       "</style>\n",
       "<table border=\"1\" class=\"dataframe\">\n",
       "  <thead>\n",
       "    <tr style=\"text-align: right;\">\n",
       "      <th></th>\n",
       "      <th>index</th>\n",
       "      <th>path</th>\n",
       "      <th>damage</th>\n",
       "      <th>data_split</th>\n",
       "      <th>location</th>\n",
       "      <th>lon</th>\n",
       "      <th>lat</th>\n",
       "      <th>color_features</th>\n",
       "      <th>x</th>\n",
       "      <th>y</th>\n",
       "    </tr>\n",
       "  </thead>\n",
       "  <tbody>\n",
       "    <tr>\n",
       "      <th>16503</th>\n",
       "      <td>3503</td>\n",
       "      <td>raw_data/train_another/damage/-95.642562_29.77...</td>\n",
       "      <td>True</td>\n",
       "      <td>train_another</td>\n",
       "      <td>-95.642562_29.770945</td>\n",
       "      <td>-95.642562</td>\n",
       "      <td>29.770945</td>\n",
       "      <td>[0.0, 0.0, 0.0, 0.0, 0.0, 0.0, 0.0, 0.0, 0.0, ...</td>\n",
       "      <td>0.138274</td>\n",
       "      <td>-0.030454</td>\n",
       "    </tr>\n",
       "    <tr>\n",
       "      <th>20024</th>\n",
       "      <td>7024</td>\n",
       "      <td>raw_data/train_another/no_damage/-95.632013_29...</td>\n",
       "      <td>False</td>\n",
       "      <td>train_another</td>\n",
       "      <td>-95.632013_29.849137</td>\n",
       "      <td>-95.632013</td>\n",
       "      <td>29.849137</td>\n",
       "      <td>[0.00030517580000000003, 0.0, 0.0, 0.0, 0.0, 0...</td>\n",
       "      <td>-0.070313</td>\n",
       "      <td>-0.056462</td>\n",
       "    </tr>\n",
       "    <tr>\n",
       "      <th>4997</th>\n",
       "      <td>4997</td>\n",
       "      <td>raw_data/test_another/no_damage/-95.633134_29....</td>\n",
       "      <td>False</td>\n",
       "      <td>test_another</td>\n",
       "      <td>-95.633134_29.777668</td>\n",
       "      <td>-95.633134</td>\n",
       "      <td>29.777668</td>\n",
       "      <td>[0.00048828120000000004, 0.0, 0.0, 0.0, 0.0, 0...</td>\n",
       "      <td>0.078612</td>\n",
       "      <td>0.013785</td>\n",
       "    </tr>\n",
       "  </tbody>\n",
       "</table>\n",
       "</div>"
      ],
      "text/plain": [
       "       index                                               path  damage  \\\n",
       "16503   3503  raw_data/train_another/damage/-95.642562_29.77...    True   \n",
       "20024   7024  raw_data/train_another/no_damage/-95.632013_29...   False   \n",
       "4997    4997  raw_data/test_another/no_damage/-95.633134_29....   False   \n",
       "\n",
       "          data_split              location        lon        lat  \\\n",
       "16503  train_another  -95.642562_29.770945 -95.642562  29.770945   \n",
       "20024  train_another  -95.632013_29.849137 -95.632013  29.849137   \n",
       "4997    test_another  -95.633134_29.777668 -95.633134  29.777668   \n",
       "\n",
       "                                          color_features         x         y  \n",
       "16503  [0.0, 0.0, 0.0, 0.0, 0.0, 0.0, 0.0, 0.0, 0.0, ...  0.138274 -0.030454  \n",
       "20024  [0.00030517580000000003, 0.0, 0.0, 0.0, 0.0, 0... -0.070313 -0.056462  \n",
       "4997   [0.00048828120000000004, 0.0, 0.0, 0.0, 0.0, 0...  0.078612  0.013785  "
      ]
     },
     "execution_count": 250,
     "metadata": {},
     "output_type": "execute_result"
    }
   ],
   "source": [
    "# Read the color features'\n",
    "image_df_col = pd.read_json('./color_features.json')\n",
    "image_df_col['damage'] = image_df_col['damage'].map(lambda x: x=='damage') \n",
    "image_df_col.sample(3)"
   ]
  },
  {
   "cell_type": "code",
   "execution_count": 251,
   "metadata": {},
   "outputs": [
    {
     "name": "stdout",
     "output_type": "stream",
     "text": [
      "(10000, 11)\n",
      "(10000, 255) (10000,)\n"
     ]
    }
   ],
   "source": [
    "# Use the train_another dataset to train the model. Prepare the training and target features\n",
    "train_df_col = image_df_col.query('data_split==\"train_another\"')\n",
    "train_df_col.reset_index(inplace=True)\n",
    "print(train_df.shape)\n",
    "\n",
    "train_x_col = np.stack(train_df_col['color_features'].values, 0)\n",
    "train_y_col = np.stack(train_df_col['damage'], 0)\n",
    "print(train_x_col.shape, train_y_col.shape)"
   ]
  },
  {
   "cell_type": "code",
   "execution_count": 262,
   "metadata": {},
   "outputs": [
    {
     "data": {
      "text/plain": [
       "KNeighborsRegressor(n_neighbors=1)"
      ]
     },
     "execution_count": 262,
     "metadata": {},
     "output_type": "execute_result"
    }
   ],
   "source": [
    "from sklearn.neighbors import KNeighborsRegressor\n",
    "knn_col = KNeighborsRegressor(n_neighbors=1)\n",
    "knn_col.fit(train_x_col, train_y_col)"
   ]
  },
  {
   "cell_type": "markdown",
   "metadata": {},
   "source": [
    "#### Helper Function to print and plot model metrics"
   ]
  },
  {
   "cell_type": "code",
   "execution_count": 272,
   "metadata": {},
   "outputs": [],
   "source": [
    "import itertools\n",
    "from sklearn.metrics import roc_auc_score, roc_curve, accuracy_score, classification_report, confusion_matrix\n",
    "from mpl_toolkits.axes_grid1 import make_axes_locatable\n",
    "\n",
    "def show_model_results(in_model, df,features,use_split=None, plot_type='swarm'):\n",
    "    \"\"\"\n",
    "    Function to plot the prediction results of a certain model. \n",
    "    It plots and prints ROC curve, confusion matrix, accuracy and classification report\n",
    "    \n",
    "    \"\"\"\n",
    "    fig, m_axs = plt.subplots(2, 2, figsize=(12, 12))\n",
    "    m_axs = m_axs.flatten()\n",
    "    all_rows = []\n",
    "    classfication_report_df = pd.DataFrame()\n",
    "    ax1 = m_axs[0]\n",
    "#     ax1 = m_axs\n",
    "    if use_split is None:\n",
    "        cur_df = df.copy()\n",
    "    else:\n",
    "        cur_df = df.query('data_split==\"{}\"'.format(use_split)) \n",
    "    k=1    \n",
    "    for c_split, example_df in cur_df.groupby('data_split'):\n",
    "\n",
    "        if c_split != 'train_another' :\n",
    "            example_df = example_df.reset_index()\n",
    "            x_vec = np.stack(example_df[features].values, 0)\n",
    "            y_vec = np.stack(example_df['damage'], 0)\n",
    "\n",
    "            valid_pred = in_model.predict(x_vec)\n",
    "            fpr, tpr, _ = roc_curve(y_vec[:], valid_pred[:])\n",
    "            auc = roc_auc_score(y_vec[:], valid_pred[:])\n",
    "            acc = accuracy_score(y_vec[:], valid_pred[:]>0.5)\n",
    "\n",
    "            cnf_matrix = confusion_matrix(y_vec[:], valid_pred[:])\n",
    "            class_report = classification_report(y_vec[:], valid_pred[:], output_dict=True)\n",
    "            class_report_df = pd.DataFrame(class_report).transpose()\n",
    "            class_report_df['split'] = c_split\n",
    "            classfication_report_df = pd.concat([classfication_report_df,class_report_df],axis=0)\n",
    "\n",
    "            # Plot ROC curve\n",
    "            ax1.plot(fpr, tpr, '.-', label='{}, AUC {:0.2f}, Accuracy: {:2.0%}'.format(c_split, auc, acc))\n",
    "            all_rows += [pd.DataFrame({'class': y_vec[:], 'prediction': np.clip(valid_pred[:], 0, 1), 'type': 'damage', \n",
    "                                      'split': c_split})]\n",
    "\n",
    "            ax1.legend(loc='lower right')\n",
    "            ax1.set_xlabel('False Positive Rate (FPR)')\n",
    "            ax1.set_ylabel('True Positive Rate (TPR)') \n",
    "            \n",
    "            #  plot_confusion_matrix(cnf_matrix, classes=class_names)\n",
    "            ax = m_axs[k]\n",
    "            class_names = ['True','False']\n",
    "            im = ax.imshow(cnf_matrix, interpolation='nearest', cmap=plt.cm.Blues)\n",
    "            ax.set_title('Confusion Matrix : {}'.format(c_split))\n",
    "\n",
    "            tick_marks = np.arange(len(class_names))\n",
    "            ax.set_xticks(tick_marks, class_names, rotation=45)\n",
    "            ax.set_yticks(tick_marks, class_names)\n",
    "            ax.set_ylabel('True label')\n",
    "            ax.set_xlabel('Predicted label')  \n",
    "            \n",
    "            # for colorbar\n",
    "            divider = make_axes_locatable(ax)\n",
    "            cax = divider.append_axes('right', size='5%', pad=0.05)\n",
    "            fig.colorbar(im, cax=cax, orientation='vertical')\n",
    "            \n",
    "            # Just to write the values in the confusion matrix\n",
    "            fmt = 'd'\n",
    "            thresh = cnf_matrix.max() / 2.\n",
    "            for i, j in itertools.product(range(cnf_matrix.shape[0]), range(cnf_matrix.shape[1])):\n",
    "                ax.text(j, i, format(cnf_matrix[i, j], fmt),\n",
    "                         horizontalalignment=\"center\",\n",
    "                         color=\"white\" if cnf_matrix[i, j] > thresh else \"black\")\n",
    "\n",
    "\n",
    "            plt.tight_layout()\n",
    "            \n",
    "            k = k + 1\n",
    "\n",
    "    c_all_df = pd.concat(all_rows)\n",
    "\n",
    "    return classfication_report_df,c_all_df\n",
    "\n"
   ]
  },
  {
   "cell_type": "code",
   "execution_count": 273,
   "metadata": {},
   "outputs": [
    {
     "data": {
      "image/png": "[encoded data removed]",
      "text/plain": [
       "<Figure size 864x864 with 7 Axes>"
      ]
     },
     "metadata": {
      "needs_background": "light"
     },
     "output_type": "display_data"
    }
   ],
   "source": [
    "classfication_report_df, result_df = show_model_results(knn_col, image_df_col, 'color_features')"
   ]
  },
  {
   "cell_type": "markdown",
   "metadata": {},
   "source": [
    "classfication_report_df.head(15)"
   ]
  },
  {
   "cell_type": "markdown",
   "metadata": {},
   "source": [
    "The base line model built using the color features actually performed reasonably well. AOC of 90% for test_another and validation datasets and 95% AOC for the test data. However, when the test dataset is highly unbalanced, as in the case of the test_another (1000 no-damage class vs 8000 damage class), the precision of the simple baseline model suffers alot. It produced a precision of 49% for the unbalanced data compared to ~ 90% precison for the balanced datasets.\n",
    "\n",
    "Next we train using similar KNN model but using the resnet50 features"
   ]
  },
  {
   "cell_type": "markdown",
   "metadata": {},
   "source": [
    "### 3.3.1 Model training using Resnet50 features\n"
   ]
  },
  {
   "cell_type": "code",
   "execution_count": 90,
   "metadata": {},
   "outputs": [
    {
     "data": {
      "text/html": [
       "<div>\n",
       "<style scoped>\n",
       "    .dataframe tbody tr th:only-of-type {\n",
       "        vertical-align: middle;\n",
       "    }\n",
       "\n",
       "    .dataframe tbody tr th {\n",
       "        vertical-align: top;\n",
       "    }\n",
       "\n",
       "    .dataframe thead th {\n",
       "        text-align: right;\n",
       "    }\n",
       "</style>\n",
       "<table border=\"1\" class=\"dataframe\">\n",
       "  <thead>\n",
       "    <tr style=\"text-align: right;\">\n",
       "      <th></th>\n",
       "      <th>index</th>\n",
       "      <th>path</th>\n",
       "      <th>damage</th>\n",
       "      <th>data_split</th>\n",
       "      <th>location</th>\n",
       "      <th>lon</th>\n",
       "      <th>lat</th>\n",
       "      <th>color_features</th>\n",
       "      <th>x</th>\n",
       "      <th>y</th>\n",
       "      <th>resnet_features</th>\n",
       "      <th>x1</th>\n",
       "      <th>y1</th>\n",
       "      <th>z1</th>\n",
       "    </tr>\n",
       "  </thead>\n",
       "  <tbody>\n",
       "    <tr>\n",
       "      <th>12430</th>\n",
       "      <td>1430</td>\n",
       "      <td>raw_data/validation_another/no_damage/-95.6333...</td>\n",
       "      <td>False</td>\n",
       "      <td>validation_another</td>\n",
       "      <td>-95.633306_29.852415</td>\n",
       "      <td>-95.633306</td>\n",
       "      <td>29.852415</td>\n",
       "      <td>[0.0001831055, 0.0, 0.0, 0.0, 0.0, 0.0, 0.0, 0...</td>\n",
       "      <td>25.392065</td>\n",
       "      <td>-15.399041</td>\n",
       "      <td>[0.0247803628, 0.31377032400000004, 1.15121781...</td>\n",
       "      <td>25.392048</td>\n",
       "      <td>-15.399152</td>\n",
       "      <td>4.425117</td>\n",
       "    </tr>\n",
       "    <tr>\n",
       "      <th>21188</th>\n",
       "      <td>8188</td>\n",
       "      <td>raw_data/train_another/damage/-93.981558999999...</td>\n",
       "      <td>True</td>\n",
       "      <td>train_another</td>\n",
       "      <td>-93.98155899999999_29.898913</td>\n",
       "      <td>-93.981559</td>\n",
       "      <td>29.898913</td>\n",
       "      <td>[0.00012207030000000001, 0.0, 0.0, 0.0, 0.0, 0...</td>\n",
       "      <td>-5.289604</td>\n",
       "      <td>8.648987</td>\n",
       "      <td>[0.0957442746, 0.9225569963, 1.341045022, 0.0,...</td>\n",
       "      <td>-5.289598</td>\n",
       "      <td>8.648984</td>\n",
       "      <td>4.072215</td>\n",
       "    </tr>\n",
       "    <tr>\n",
       "      <th>22669</th>\n",
       "      <td>9669</td>\n",
       "      <td>raw_data/train_another/no_damage/-95.157519999...</td>\n",
       "      <td>False</td>\n",
       "      <td>train_another</td>\n",
       "      <td>-95.15751999999999_30.072542</td>\n",
       "      <td>-95.157520</td>\n",
       "      <td>30.072542</td>\n",
       "      <td>[0.0024414062, 0.0, 0.0, 0.0, 0.0, 0.0, 0.0, 0...</td>\n",
       "      <td>-16.361124</td>\n",
       "      <td>-1.973304</td>\n",
       "      <td>[0.0, 0.00226143, 0.047160808000000005, 0.0, 0...</td>\n",
       "      <td>-16.361122</td>\n",
       "      <td>-1.973397</td>\n",
       "      <td>-1.471073</td>\n",
       "    </tr>\n",
       "  </tbody>\n",
       "</table>\n",
       "</div>"
      ],
      "text/plain": [
       "       index                                               path  damage  \\\n",
       "12430   1430  raw_data/validation_another/no_damage/-95.6333...   False   \n",
       "21188   8188  raw_data/train_another/damage/-93.981558999999...    True   \n",
       "22669   9669  raw_data/train_another/no_damage/-95.157519999...   False   \n",
       "\n",
       "               data_split                      location        lon        lat  \\\n",
       "12430  validation_another          -95.633306_29.852415 -95.633306  29.852415   \n",
       "21188       train_another  -93.98155899999999_29.898913 -93.981559  29.898913   \n",
       "22669       train_another  -95.15751999999999_30.072542 -95.157520  30.072542   \n",
       "\n",
       "                                          color_features          x  \\\n",
       "12430  [0.0001831055, 0.0, 0.0, 0.0, 0.0, 0.0, 0.0, 0...  25.392065   \n",
       "21188  [0.00012207030000000001, 0.0, 0.0, 0.0, 0.0, 0...  -5.289604   \n",
       "22669  [0.0024414062, 0.0, 0.0, 0.0, 0.0, 0.0, 0.0, 0... -16.361124   \n",
       "\n",
       "               y                                    resnet_features  \\\n",
       "12430 -15.399041  [0.0247803628, 0.31377032400000004, 1.15121781...   \n",
       "21188   8.648987  [0.0957442746, 0.9225569963, 1.341045022, 0.0,...   \n",
       "22669  -1.973304  [0.0, 0.00226143, 0.047160808000000005, 0.0, 0...   \n",
       "\n",
       "              x1         y1        z1  \n",
       "12430  25.392048 -15.399152  4.425117  \n",
       "21188  -5.289598   8.648984  4.072215  \n",
       "22669 -16.361122  -1.973397 -1.471073  "
      ]
     },
     "execution_count": 90,
     "metadata": {},
     "output_type": "execute_result"
    }
   ],
   "source": [
    "# Read the resnet features'\n",
    "image_df_resnet = pd.read_json('./resnet_features.json')\n",
    "image_df_resnet['damage'] = image_df_resnet['damage'].map(lambda x: x=='damage') \n",
    "image_df_resnet.sample(3)\n"
   ]
  },
  {
   "cell_type": "code",
   "execution_count": 92,
   "metadata": {},
   "outputs": [
    {
     "name": "stdout",
     "output_type": "stream",
     "text": [
      "(10000, 2048) (10000,)\n"
     ]
    }
   ],
   "source": [
    "# Use the train_another dataset to train the model. Prepare the training and target features\n",
    "train_df_resnet = image_df_resnet.query('data_split==\"train_another\"')\n",
    "train_df_resnet.reset_index(inplace=True)\n",
    "\n",
    "train_x_resnet = np.stack(train_df_resnet['resnet_features'].values, 0)\n",
    "train_y_resnet = np.stack(train_df_resnet['damage'], 0)\n",
    "print(train_x_resnet.shape, train_y_resnet.shape)"
   ]
  },
  {
   "cell_type": "code",
   "execution_count": 93,
   "metadata": {},
   "outputs": [
    {
     "data": {
      "text/plain": [
       "KNeighborsRegressor(n_neighbors=1)"
      ]
     },
     "execution_count": 93,
     "metadata": {},
     "output_type": "execute_result"
    }
   ],
   "source": [
    "knn_resnet = KNeighborsRegressor(n_neighbors=1)\n",
    "knn_resnet.fit(train_x_resnet, train_y_resnet)"
   ]
  },
  {
   "cell_type": "code",
   "execution_count": 264,
   "metadata": {},
   "outputs": [
    {
     "data": {
      "image/png": "[encoded data removed]",
      "text/plain": [
       "<Figure size 864x864 with 7 Axes>"
      ]
     },
     "metadata": {
      "needs_background": "light"
     },
     "output_type": "display_data"
    }
   ],
   "source": [
    "classfication_report_resnet_df, result_resnet_df = show_model_results(knn_resnet, image_df_resnet, 'resnet_features')\n",
    "# show_model_results(knn_resnet,image_df_resnet,'resnet_features')"
   ]
  },
  {
   "cell_type": "code",
   "execution_count": 265,
   "metadata": {},
   "outputs": [
    {
     "data": {
      "text/html": [
       "<div>\n",
       "<style scoped>\n",
       "    .dataframe tbody tr th:only-of-type {\n",
       "        vertical-align: middle;\n",
       "    }\n",
       "\n",
       "    .dataframe tbody tr th {\n",
       "        vertical-align: top;\n",
       "    }\n",
       "\n",
       "    .dataframe thead th {\n",
       "        text-align: right;\n",
       "    }\n",
       "</style>\n",
       "<table border=\"1\" class=\"dataframe\">\n",
       "  <thead>\n",
       "    <tr style=\"text-align: right;\">\n",
       "      <th></th>\n",
       "      <th>precision</th>\n",
       "      <th>recall</th>\n",
       "      <th>f1-score</th>\n",
       "      <th>support</th>\n",
       "      <th>split</th>\n",
       "    </tr>\n",
       "  </thead>\n",
       "  <tbody>\n",
       "    <tr>\n",
       "      <th>False</th>\n",
       "      <td>0.961538</td>\n",
       "      <td>0.975000</td>\n",
       "      <td>0.968222</td>\n",
       "      <td>1000.000000</td>\n",
       "      <td>test</td>\n",
       "    </tr>\n",
       "    <tr>\n",
       "      <th>True</th>\n",
       "      <td>0.974645</td>\n",
       "      <td>0.961000</td>\n",
       "      <td>0.967774</td>\n",
       "      <td>1000.000000</td>\n",
       "      <td>test</td>\n",
       "    </tr>\n",
       "    <tr>\n",
       "      <th>accuracy</th>\n",
       "      <td>0.968000</td>\n",
       "      <td>0.968000</td>\n",
       "      <td>0.968000</td>\n",
       "      <td>0.968000</td>\n",
       "      <td>test</td>\n",
       "    </tr>\n",
       "    <tr>\n",
       "      <th>macro avg</th>\n",
       "      <td>0.968092</td>\n",
       "      <td>0.968000</td>\n",
       "      <td>0.967998</td>\n",
       "      <td>2000.000000</td>\n",
       "      <td>test</td>\n",
       "    </tr>\n",
       "    <tr>\n",
       "      <th>weighted avg</th>\n",
       "      <td>0.968092</td>\n",
       "      <td>0.968000</td>\n",
       "      <td>0.967998</td>\n",
       "      <td>2000.000000</td>\n",
       "      <td>test</td>\n",
       "    </tr>\n",
       "    <tr>\n",
       "      <th>False</th>\n",
       "      <td>0.652418</td>\n",
       "      <td>0.931000</td>\n",
       "      <td>0.767202</td>\n",
       "      <td>1000.000000</td>\n",
       "      <td>test_another</td>\n",
       "    </tr>\n",
       "    <tr>\n",
       "      <th>True</th>\n",
       "      <td>0.990889</td>\n",
       "      <td>0.938000</td>\n",
       "      <td>0.963719</td>\n",
       "      <td>8000.000000</td>\n",
       "      <td>test_another</td>\n",
       "    </tr>\n",
       "    <tr>\n",
       "      <th>accuracy</th>\n",
       "      <td>0.937222</td>\n",
       "      <td>0.937222</td>\n",
       "      <td>0.937222</td>\n",
       "      <td>0.937222</td>\n",
       "      <td>test_another</td>\n",
       "    </tr>\n",
       "    <tr>\n",
       "      <th>macro avg</th>\n",
       "      <td>0.821653</td>\n",
       "      <td>0.934500</td>\n",
       "      <td>0.865461</td>\n",
       "      <td>9000.000000</td>\n",
       "      <td>test_another</td>\n",
       "    </tr>\n",
       "    <tr>\n",
       "      <th>weighted avg</th>\n",
       "      <td>0.953281</td>\n",
       "      <td>0.937222</td>\n",
       "      <td>0.941884</td>\n",
       "      <td>9000.000000</td>\n",
       "      <td>test_another</td>\n",
       "    </tr>\n",
       "    <tr>\n",
       "      <th>False</th>\n",
       "      <td>0.945565</td>\n",
       "      <td>0.938000</td>\n",
       "      <td>0.941767</td>\n",
       "      <td>1000.000000</td>\n",
       "      <td>validation_another</td>\n",
       "    </tr>\n",
       "    <tr>\n",
       "      <th>True</th>\n",
       "      <td>0.938492</td>\n",
       "      <td>0.946000</td>\n",
       "      <td>0.942231</td>\n",
       "      <td>1000.000000</td>\n",
       "      <td>validation_another</td>\n",
       "    </tr>\n",
       "    <tr>\n",
       "      <th>accuracy</th>\n",
       "      <td>0.942000</td>\n",
       "      <td>0.942000</td>\n",
       "      <td>0.942000</td>\n",
       "      <td>0.942000</td>\n",
       "      <td>validation_another</td>\n",
       "    </tr>\n",
       "    <tr>\n",
       "      <th>macro avg</th>\n",
       "      <td>0.942028</td>\n",
       "      <td>0.942000</td>\n",
       "      <td>0.941999</td>\n",
       "      <td>2000.000000</td>\n",
       "      <td>validation_another</td>\n",
       "    </tr>\n",
       "    <tr>\n",
       "      <th>weighted avg</th>\n",
       "      <td>0.942028</td>\n",
       "      <td>0.942000</td>\n",
       "      <td>0.941999</td>\n",
       "      <td>2000.000000</td>\n",
       "      <td>validation_another</td>\n",
       "    </tr>\n",
       "  </tbody>\n",
       "</table>\n",
       "</div>"
      ],
      "text/plain": [
       "              precision    recall  f1-score      support               split\n",
       "False          0.961538  0.975000  0.968222  1000.000000                test\n",
       "True           0.974645  0.961000  0.967774  1000.000000                test\n",
       "accuracy       0.968000  0.968000  0.968000     0.968000                test\n",
       "macro avg      0.968092  0.968000  0.967998  2000.000000                test\n",
       "weighted avg   0.968092  0.968000  0.967998  2000.000000                test\n",
       "False          0.652418  0.931000  0.767202  1000.000000        test_another\n",
       "True           0.990889  0.938000  0.963719  8000.000000        test_another\n",
       "accuracy       0.937222  0.937222  0.937222     0.937222        test_another\n",
       "macro avg      0.821653  0.934500  0.865461  9000.000000        test_another\n",
       "weighted avg   0.953281  0.937222  0.941884  9000.000000        test_another\n",
       "False          0.945565  0.938000  0.941767  1000.000000  validation_another\n",
       "True           0.938492  0.946000  0.942231  1000.000000  validation_another\n",
       "accuracy       0.942000  0.942000  0.942000     0.942000  validation_another\n",
       "macro avg      0.942028  0.942000  0.941999  2000.000000  validation_another\n",
       "weighted avg   0.942028  0.942000  0.941999  2000.000000  validation_another"
      ]
     },
     "execution_count": 265,
     "metadata": {},
     "output_type": "execute_result"
    }
   ],
   "source": [
    "classfication_report_resnet_df"
   ]
  },
  {
   "cell_type": "markdown",
   "metadata": {},
   "source": [
    "Overall there is ~4% improvement in AOC and accuracy by using the resnet features compared to the results using color features. The precison of the unbalanced dataset improved from 49% to 65%"
   ]
  },
  {
   "cell_type": "code",
   "execution_count": null,
   "metadata": {},
   "outputs": [],
   "source": []
  },
  {
   "cell_type": "markdown",
   "metadata": {},
   "source": [
    "## 3.4 Summary\n",
    "\n",
    "We have trained a simple basle line model using K nearest Neighbor (KNN) method using color only features and more complex features generated from resnet50 model.\n",
    "\n",
    "For a simple and fast model, these base lines model's performnce was quite good. The only major problem was when the test dataset is unbalanced. the precision suffered when given unbalanced dataset. The precision was 49% and 65% using the color features and resnet features respectively. Usinf more complex features does help improve accuracy and performance of the model with overall increas of ~4%. The results of the base line models are summarized in the table below.\n",
    "\n",
    "\n",
    "<img src = \"./Baseline_Model_Classification_report.png\" alt=\"drawing\" width=\"800\"/>\n"
   ]
  },
  {
   "cell_type": "code",
   "execution_count": null,
   "metadata": {},
   "outputs": [],
   "source": []
  }
 ],
 "metadata": {
  "kernelspec": {
   "display_name": "Python 3 (ipykernel)",
   "language": "python",
   "name": "python3"
  },
  "language_info": {
   "codemirror_mode": {
    "name": "ipython",
    "version": 3
   },
   "file_extension": ".py",
   "mimetype": "text/x-python",
   "name": "python",
   "nbconvert_exporter": "python",
   "pygments_lexer": "ipython3",
   "version": "3.8.5"
  }
 },
 "nbformat": 4,
 "nbformat_minor": 4
}
